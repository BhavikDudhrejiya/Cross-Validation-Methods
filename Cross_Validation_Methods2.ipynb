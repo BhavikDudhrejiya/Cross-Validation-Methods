{
  "nbformat": 4,
  "nbformat_minor": 0,
  "metadata": {
    "colab": {
      "name": "Cross Validation Methods2.ipynb",
      "provenance": [],
      "collapsed_sections": [],
      "authorship_tag": "ABX9TyNYuhZUiETFASXP6N7v4Sed",
      "include_colab_link": true
    },
    "kernelspec": {
      "name": "python3",
      "display_name": "Python 3"
    }
  },
  "cells": [
    {
      "cell_type": "markdown",
      "metadata": {
        "id": "view-in-github",
        "colab_type": "text"
      },
      "source": [
        "<a href=\"https://colab.research.google.com/github/BhavikDudhrejiya/Cross-Validation-Methods/blob/main/Cross_Validation_Methods2.ipynb\" target=\"_parent\"><img src=\"https://colab.research.google.com/assets/colab-badge.svg\" alt=\"Open In Colab\"/></a>"
      ]
    },
    {
      "cell_type": "code",
      "metadata": {
        "id": "DeFgO7jJ8WDI"
      },
      "source": [
        "#Importing libraries\r\n",
        "import pandas as pd\r\n",
        "import numpy as np\r\n",
        "import matplotlib.pyplot as plt\r\n",
        "import seaborn as sns\r\n",
        "from sklearn.datasets import load_breast_cancer\r\n",
        "from sklearn.model_selection import train_test_split, cross_val_score\r\n",
        "from sklearn.ensemble import RandomForestClassifier\r\n",
        "from sklearn.metrics import accuracy_score\r\n",
        "from sklearn.model_selection import LeavePOut\r\n",
        "from sklearn.model_selection import LeaveOneOut\r\n",
        "from sklearn.model_selection import KFold\r\n",
        "from sklearn.model_selection import RepeatedKFold\r\n",
        "from sklearn.model_selection import StratifiedKFold"
      ],
      "execution_count": 7,
      "outputs": []
    },
    {
      "cell_type": "code",
      "metadata": {
        "id": "pEnS0Q_78pbm"
      },
      "source": [
        "#Loading data\r\n",
        "data = load_breast_cancer()"
      ],
      "execution_count": 2,
      "outputs": []
    },
    {
      "cell_type": "code",
      "metadata": {
        "colab": {
          "base_uri": "https://localhost:8080/"
        },
        "id": "SBnLDMPe8piA",
        "outputId": "00f461f3-4b81-45d6-bf4a-76ebad4fc277"
      },
      "source": [
        "#Checking attributes\r\n",
        "data.keys()"
      ],
      "execution_count": 3,
      "outputs": [
        {
          "output_type": "execute_result",
          "data": {
            "text/plain": [
              "dict_keys(['data', 'target', 'target_names', 'DESCR', 'feature_names', 'filename'])"
            ]
          },
          "metadata": {
            "tags": []
          },
          "execution_count": 3
        }
      ]
    },
    {
      "cell_type": "code",
      "metadata": {
        "id": "56sAqwnY8pkf"
      },
      "source": [
        "#Splitting data into X & y\r\n",
        "X = pd.DataFrame(data.data, columns=data.feature_names)\r\n",
        "y = data.target"
      ],
      "execution_count": 4,
      "outputs": []
    },
    {
      "cell_type": "code",
      "metadata": {
        "id": "0Mz6Cg288pnY"
      },
      "source": [
        "#Splitting data into train & test\r\n",
        "X_train, X_test, y_train, y_test = train_test_split(X, y, test_size = 0.2, random_state=42)"
      ],
      "execution_count": 5,
      "outputs": []
    },
    {
      "cell_type": "code",
      "metadata": {
        "id": "VW9PgCNd9FwK"
      },
      "source": [
        "#Creating function which train a model and extract accuracy\r\n",
        "def classifier(model, X_train, X_test, y_train, y_test, cv_method):\r\n",
        "  model.fit(X_train, y_train)\r\n",
        "  y_pred = model.predict(X_test)\r\n",
        "  accuracy = accuracy_score(y_test, y_pred)\r\n",
        "  cv = cross_val_score(estimator=model, X= X_train, y= y_train, scoring = 'accuracy', cv=cv_method, n_jobs=-1)\r\n",
        "  cv_score = cv.mean()\r\n",
        "  return {'Accuracy':accuracy, 'CV_score':cv_score}"
      ],
      "execution_count": 10,
      "outputs": []
    },
    {
      "cell_type": "markdown",
      "metadata": {
        "id": "82gTdzLY-6OK"
      },
      "source": [
        "# K Fold Cross Validation"
      ]
    },
    {
      "cell_type": "code",
      "metadata": {
        "colab": {
          "base_uri": "https://localhost:8080/"
        },
        "id": "YqGDD6PK-URp",
        "outputId": "69654c36-5924-451f-95ab-01535a84866b"
      },
      "source": [
        "#Creating classifier\r\n",
        "rf = RandomForestClassifier()\r\n",
        "kfold = KFold(n_splits=5)\r\n",
        "classifier(rf, X_train, X_test, y_train, y_test, kfold)"
      ],
      "execution_count": 11,
      "outputs": [
        {
          "output_type": "execute_result",
          "data": {
            "text/plain": [
              "{'Accuracy': 0.9649122807017544, 'CV_score': 0.9626373626373625}"
            ]
          },
          "metadata": {
            "tags": []
          },
          "execution_count": 11
        }
      ]
    },
    {
      "cell_type": "code",
      "metadata": {
        "colab": {
          "base_uri": "https://localhost:8080/"
        },
        "id": "ngimC0HN-slS",
        "outputId": "0218f1ce-6092-41fe-ae9c-7effc11aa00c"
      },
      "source": [
        "#Creating classifier\r\n",
        "rf = RandomForestClassifier()\r\n",
        "kfold = KFold(n_splits=10, random_state=0)\r\n",
        "classifier(rf, X_train, X_test, y_train, y_test, kfold)"
      ],
      "execution_count": 15,
      "outputs": [
        {
          "output_type": "stream",
          "text": [
            "/usr/local/lib/python3.7/dist-packages/sklearn/model_selection/_split.py:296: FutureWarning: Setting a random_state has no effect since shuffle is False. This will raise an error in 0.24. You should leave random_state to its default (None), or set shuffle=True.\n",
            "  FutureWarning\n"
          ],
          "name": "stderr"
        },
        {
          "output_type": "execute_result",
          "data": {
            "text/plain": [
              "{'Accuracy': 0.9649122807017544, 'CV_score': 0.9648309178743961}"
            ]
          },
          "metadata": {
            "tags": []
          },
          "execution_count": 15
        }
      ]
    },
    {
      "cell_type": "markdown",
      "metadata": {
        "id": "grBh9pY3_3ty"
      },
      "source": [
        "# Stratify Cross Validation"
      ]
    },
    {
      "cell_type": "code",
      "metadata": {
        "colab": {
          "base_uri": "https://localhost:8080/"
        },
        "id": "BqueS2q9_D9D",
        "outputId": "71e4734f-6353-48be-a862-7f6f40e855df"
      },
      "source": [
        "#Creating classifier\r\n",
        "rf = RandomForestClassifier()\r\n",
        "stratify_cv = StratifiedKFold(n_splits=10)\r\n",
        "classifier(rf, X_train, X_test, y_train, y_test, stratify_cv)"
      ],
      "execution_count": 27,
      "outputs": [
        {
          "output_type": "execute_result",
          "data": {
            "text/plain": [
              "{'Accuracy': 0.956140350877193, 'CV_score': 0.9626086956521739}"
            ]
          },
          "metadata": {
            "tags": []
          },
          "execution_count": 27
        }
      ]
    },
    {
      "cell_type": "code",
      "metadata": {
        "colab": {
          "base_uri": "https://localhost:8080/"
        },
        "id": "-AyRDWpVBYm_",
        "outputId": "4d994231-ba35-47b5-92b2-d3b3bc7309b1"
      },
      "source": [
        "#Increasing number of split through loop and checking the result\r\n",
        "for i in range(2,10,1):\r\n",
        "  stratify_cv = StratifiedKFold(n_splits=i, random_state=42, shuffle=True)\r\n",
        "  rf = RandomForestClassifier()\r\n",
        "  cv = cross_val_score(estimator=rf, X= X_train, y= y_train, scoring = 'accuracy', cv=stratify_cv, n_jobs=-1)\r\n",
        "  cv_score = cv.mean()\r\n",
        "  print(i, 'Stratify CV Score:',cv_score)"
      ],
      "execution_count": 32,
      "outputs": [
        {
          "output_type": "stream",
          "text": [
            "2 Stratify CV Score: 0.9450498492928356\n",
            "3 Stratify CV Score: 0.9494597420704078\n",
            "4 Stratify CV Score: 0.9472713864306784\n",
            "5 Stratify CV Score: 0.9604395604395606\n",
            "6 Stratify CV Score: 0.9538888888888889\n",
            "7 Stratify CV Score: 0.9604395604395605\n",
            "8 Stratify CV Score: 0.9582941729323309\n",
            "9 Stratify CV Score: 0.9626579520697168\n"
          ],
          "name": "stdout"
        }
      ]
    },
    {
      "cell_type": "markdown",
      "metadata": {
        "id": "v3MVmmGLKEO5"
      },
      "source": [
        "#Repeated Cross Validation"
      ]
    },
    {
      "cell_type": "code",
      "metadata": {
        "colab": {
          "base_uri": "https://localhost:8080/"
        },
        "id": "Wyoy1r9tKC7J",
        "outputId": "1454b8de-d223-45cc-b901-e0645b41c384"
      },
      "source": [
        "#Creating classifier\r\n",
        "rf = RandomForestClassifier()\r\n",
        "repeated_cv = RepeatedKFold(n_splits=2, n_repeats=4, random_state=42)\r\n",
        "classifier(rf, X_train, X_test, y_train, y_test, repeated_cv)"
      ],
      "execution_count": 38,
      "outputs": [
        {
          "output_type": "execute_result",
          "data": {
            "text/plain": [
              "{'Accuracy': 0.9649122807017544, 'CV_score': 0.9538386853698122}"
            ]
          },
          "metadata": {
            "tags": []
          },
          "execution_count": 38
        }
      ]
    },
    {
      "cell_type": "markdown",
      "metadata": {
        "id": "CfeiYwzXKvi0"
      },
      "source": [
        "#Leave P Out Cross Validation"
      ]
    },
    {
      "cell_type": "code",
      "metadata": {
        "id": "524dsPYoJxP7"
      },
      "source": [
        "#Creating classifier\r\n",
        "rf = RandomForestClassifier()\r\n",
        "LPO_cv = LeavePOut(p=2)\r\n",
        "classifier(rf, X_train, X_test, y_train, y_test, LPO_cv)"
      ],
      "execution_count": null,
      "outputs": []
    },
    {
      "cell_type": "markdown",
      "metadata": {
        "id": "HP4UAPmRLER5"
      },
      "source": [
        "#Leave One Out Cross Validation"
      ]
    },
    {
      "cell_type": "code",
      "metadata": {
        "colab": {
          "base_uri": "https://localhost:8080/"
        },
        "id": "es-lBdpDK6Tc",
        "outputId": "45590f3b-4505-4f71-b456-b448c6d89699"
      },
      "source": [
        "#Creating classifier\r\n",
        "rf = RandomForestClassifier()\r\n",
        "LOO_cv = LeaveOneOut()\r\n",
        "classifier(rf, X_train, X_test, y_train, y_test, LOO_cv)"
      ],
      "execution_count": 40,
      "outputs": [
        {
          "output_type": "execute_result",
          "data": {
            "text/plain": [
              "{'Accuracy': 0.9649122807017544, 'CV_score': 0.9604395604395605}"
            ]
          },
          "metadata": {
            "tags": []
          },
          "execution_count": 40
        }
      ]
    }
  ]
}